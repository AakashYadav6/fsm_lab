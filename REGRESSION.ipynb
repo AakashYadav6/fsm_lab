{
 "cells": [
  {
   "cell_type": "code",
   "execution_count": 1,
   "id": "bbc383fc",
   "metadata": {},
   "outputs": [],
   "source": [
    "import csv\n",
    "import numpy as np\n",
    "import matplotlib.pyplot as plt\n",
    "\n"
   ]
  },
  {
   "cell_type": "code",
   "execution_count": 2,
   "id": "24705bd9",
   "metadata": {},
   "outputs": [],
   "source": [
    "\n",
    "# Function to load the dataset from a CSV file\n",
    "def load_dataset(Medical):\n",
    "    data = []\n",
    "    with open('Medical.csv') as file:\n",
    "        reader = csv.reader(file)\n",
    "        next(reader)  # Skip the header row\n",
    "        for row in reader:\n",
    "            data.append(row)\n",
    "    return data"
   ]
  },
  {
   "cell_type": "code",
   "execution_count": 3,
   "id": "04666424",
   "metadata": {},
   "outputs": [],
   "source": [
    "\n",
    "# Function to preprocess the dataset\n",
    "def preprocess_dataset(data):\n",
    "    # Separate features and target variable\n",
    "    X = []\n",
    "    y = []\n",
    "    for row in data:\n",
    "        features = [float(row[0]), 1.0]  # Use age as the feature and add a constant term for the intercept\n",
    "        target = float(row[-1])  # Charges as the target variable\n",
    "        X.append(features)\n",
    "        y.append(target)\n",
    "    return np.array(X), np.array(y)\n"
   ]
  },
  {
   "cell_type": "code",
   "execution_count": 4,
   "id": "57c36c9f",
   "metadata": {},
   "outputs": [],
   "source": [
    "\n",
    "# Function to calculate the coefficients using the normal equation\n",
    "def calculate_coefficients(X, y):\n",
    "    XtX = np.dot(X.T, X)\n",
    "    Xty = np.dot(X.T, y)\n",
    "    coefficients = np.linalg.inv(XtX).dot(Xty)\n",
    "    return coefficients\n"
   ]
  },
  {
   "cell_type": "code",
   "execution_count": 5,
   "id": "35744917",
   "metadata": {},
   "outputs": [],
   "source": [
    "\n",
    "# Function to make predictions using the calculated coefficients\n",
    "def predict(X, coefficients):\n",
    "    return np.dot(X, coefficients)\n",
    "\n"
   ]
  },
  {
   "cell_type": "code",
   "execution_count": 6,
   "id": "cd7e58b3",
   "metadata": {},
   "outputs": [],
   "source": [
    "\n",
    "# Function to visualize the results\n",
    "def plot_results(X, y, predictions):\n",
    "    plt.scatter(X[:, 0], y, color='blue', label='Actual')\n",
    "    plt.plot(X[:, 0], predictions, color='red', linewidth=2, label='Predicted')\n",
    "    plt.xlabel('Age')\n",
    "    plt.ylabel('Charges')\n",
    "    plt.legend()\n",
    "    plt.show()\n"
   ]
  },
  {
   "cell_type": "code",
   "execution_count": 7,
   "id": "9741e68b",
   "metadata": {},
   "outputs": [],
   "source": [
    "\n",
    "# Main function\n",
    "def main():\n",
    "    # Load the dataset\n",
    "    filename = 'Medical.csv'\n",
    "    data = load_dataset('Medical.csv')\n",
    "\n",
    "    # Preprocess the dataset\n",
    "    X, y = preprocess_dataset(data)\n",
    "\n",
    "    # Calculate the coefficients\n",
    "    coefficients = calculate_coefficients(X, y)\n",
    "\n",
    "    # Make predictions\n",
    "    predictions = predict(X, coefficients)\n",
    "\n",
    "    # Print the predicted values\n",
    "    print(\"Predicted Values:\", predictions)\n",
    "\n",
    "    # Visualize the results\n",
    "    plot_results(X, y, predictions)\n"
   ]
  },
  {
   "cell_type": "code",
   "execution_count": 8,
   "id": "a6c8da1d",
   "metadata": {},
   "outputs": [
    {
     "name": "stdout",
     "output_type": "stream",
     "text": [
      "Predicted Values: [ 8062.61476073  7804.89214207 10382.11832874 ...  7804.89214207\n",
      "  8578.05999807 18886.96474474]\n"
     ]
    },
    {
     "data": {
      "image/png": "[encoded data removed]",
      "text/plain": [
       "<Figure size 432x288 with 1 Axes>"
      ]
     },
     "metadata": {
      "needs_background": "light"
     },
     "output_type": "display_data"
    }
   ],
   "source": [
    "\n",
    "# Run the main function\n",
    "if __name__ == '__main__':\n",
    "    main()\n"
   ]
  },
  {
   "cell_type": "code",
   "execution_count": null,
   "id": "6dc882b0",
   "metadata": {},
   "outputs": [],
   "source": []
  },
  {
   "cell_type": "code",
   "execution_count": null,
   "id": "58a45b11",
   "metadata": {},
   "outputs": [],
   "source": []
  }
 ],
 "metadata": {
  "kernelspec": {
   "display_name": "Python 3 (ipykernel)",
   "language": "python",
   "name": "python3"
  },
  "language_info": {
   "codemirror_mode": {
    "name": "ipython",
    "version": 3
   },
   "file_extension": ".py",
   "mimetype": "text/x-python",
   "name": "python",
   "nbconvert_exporter": "python",
   "pygments_lexer": "ipython3",
   "version": "3.9.7"
  }
 },
 "nbformat": 4,
 "nbformat_minor": 5
}
