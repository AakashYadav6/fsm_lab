{
 "cells": [
  {
   "cell_type": "code",
   "execution_count": 1,
   "id": "469a151b",
   "metadata": {},
   "outputs": [],
   "source": [
    "import numpy as np\n",
    "import pandas as pd\n",
    "import matplotlib.pyplot as plt\n"
   ]
  },
  {
   "cell_type": "code",
   "execution_count": 2,
   "id": "569d0d0f",
   "metadata": {},
   "outputs": [],
   "source": [
    "def calculate_prior(y):\n",
    "    unique_classes, class_counts = np.unique(y, return_counts=True)\n",
    "    prior = class_counts / len(y)\n",
    "    return prior\n"
   ]
  },
  {
   "cell_type": "code",
   "execution_count": 3,
   "id": "98d24c65",
   "metadata": {},
   "outputs": [],
   "source": [
    "def calculate_likelihood(x, feature_values, class_labels):\n",
    "    num_features = len(feature_values)\n",
    "    likelihood = np.ones((len(class_labels), num_features))\n",
    "    for i, label in enumerate(class_labels):\n",
    "        for j in range(num_features):\n",
    "            feature = x[:, j]\n",
    "            likelihood[i, j] = np.sum(feature == feature_values[j]) / len(feature)\n",
    "    return likelihood"
   ]
  },
  {
   "cell_type": "code",
   "execution_count": 4,
   "id": "38c95377",
   "metadata": {},
   "outputs": [],
   "source": [
    "def calculate_posterior(x, prior, likelihood):\n",
    "    posterior = prior * likelihood.prod(axis=1)\n",
    "    return posterior\n"
   ]
  },
  {
   "cell_type": "code",
   "execution_count": 5,
   "id": "9affb4b8",
   "metadata": {},
   "outputs": [],
   "source": [
    "def naive_bayes(x_train, y_train, x_test):\n",
    "    class_labels = np.unique(y_train)\n",
    "    num_classes = len(class_labels)\n",
    "\n",
    "    prior = calculate_prior(y_train)\n",
    "    likelihood = calculate_likelihood(x_train, [0, 1], class_labels)\n",
    "\n",
    "    posteriors = np.zeros((len(x_test), num_classes))\n",
    "    for i, x in enumerate(x_test):\n",
    "        posterior = calculate_posterior(x, prior, likelihood)\n",
    "        posteriors[i] = posterior\n",
    "\n",
    "    y_pred = class_labels[np.argmax(posteriors, axis=1)]\n",
    "    return y_pred"
   ]
  },
  {
   "cell_type": "code",
   "execution_count": 12,
   "id": "a337112f",
   "metadata": {},
   "outputs": [],
   "source": [
    "# Load data from CSV file\n",
    "train_data = pd.read_csv('train.csv')\n",
    "test_data = pd.read_csv('test.csv')\n",
    "\n",
    "# Preprocess data\n",
    "x_train = train_data.drop(['PassengerId', 'Survived', 'Name', 'Ticket', 'Cabin'], axis=1).values\n",
    "y_train = train_data['Survived'].values\n",
    "x_test = test_data.drop(['PassengerId', 'Name', 'Ticket', 'Cabin'], axis=1).values\n"
   ]
  },
  {
   "cell_type": "code",
   "execution_count": 7,
   "id": "f709a7f8",
   "metadata": {},
   "outputs": [],
   "source": [
    "# Handle missing values\n",
    "x_train = np.nan_to_num(x_train, nan=-1)\n",
    "x_test = np.nan_to_num(x_test, nan=-1)\n"
   ]
  },
  {
   "cell_type": "code",
   "execution_count": 8,
   "id": "20940ada",
   "metadata": {},
   "outputs": [],
   "source": [
    "# Apply Naive Bayes algorithm\n",
    "y_pred = naive_bayes(x_train, y_train, x_test)\n"
   ]
  },
  {
   "cell_type": "code",
   "execution_count": 9,
   "id": "ba97dc5b",
   "metadata": {},
   "outputs": [
    {
     "name": "stdout",
     "output_type": "stream",
     "text": [
      "Predicted labels: [0 0 0 0 0 0 0 0 0 0 0 0 0 0 0 0 0 0 0 0 0 0 0 0 0 0 0 0 0 0 0 0 0 0 0 0 0\n",
      " 0 0 0 0 0 0 0 0 0 0 0 0 0 0 0 0 0 0 0 0 0 0 0 0 0 0 0 0 0 0 0 0 0 0 0 0 0\n",
      " 0 0 0 0 0 0 0 0 0 0 0 0 0 0 0 0 0 0 0 0 0 0 0 0 0 0 0 0 0 0 0 0 0 0 0 0 0\n",
      " 0 0 0 0 0 0 0 0 0 0 0 0 0 0 0 0 0 0 0 0 0 0 0 0 0 0 0 0 0 0 0 0 0 0 0 0 0\n",
      " 0 0 0 0 0 0 0 0 0 0 0 0 0 0 0 0 0 0 0 0 0 0 0 0 0 0 0 0 0 0 0 0 0 0 0 0 0\n",
      " 0 0 0 0 0 0 0 0 0 0 0 0 0 0 0 0 0 0 0 0 0 0 0 0 0 0 0 0 0 0 0 0 0 0 0 0 0\n",
      " 0 0 0 0 0 0 0 0 0 0 0 0 0 0 0 0 0 0 0 0 0 0 0 0 0 0 0 0 0 0 0 0 0 0 0 0 0\n",
      " 0 0 0 0 0 0 0 0 0 0 0 0 0 0 0 0 0 0 0 0 0 0 0 0 0 0 0 0 0 0 0 0 0 0 0 0 0\n",
      " 0 0 0 0 0 0 0 0 0 0 0 0 0 0 0 0 0 0 0 0 0 0 0 0 0 0 0 0 0 0 0 0 0 0 0 0 0\n",
      " 0 0 0 0 0 0 0 0 0 0 0 0 0 0 0 0 0 0 0 0 0 0 0 0 0 0 0 0 0 0 0 0 0 0 0 0 0\n",
      " 0 0 0 0 0 0 0 0 0 0 0 0 0 0 0 0 0 0 0 0 0 0 0 0 0 0 0 0 0 0 0 0 0 0 0 0 0\n",
      " 0 0 0 0 0 0 0 0 0 0 0]\n"
     ]
    }
   ],
   "source": [
    "# Print the predicted labels\n",
    "print(\"Predicted labels:\", y_pred)\n"
   ]
  },
  {
   "cell_type": "code",
   "execution_count": 10,
   "id": "0fc403bd",
   "metadata": {},
   "outputs": [
    {
     "data": {
      "image/png": "[encoded data removed]",
      "text/plain": [
       "<Figure size 432x288 with 1 Axes>"
      ]
     },
     "metadata": {
      "needs_background": "light"
     },
     "output_type": "display_data"
    }
   ],
   "source": [
    "# Plot the predicted labels\n",
    "plt.hist(y_pred, bins=[0, 1, 2], align='left', rwidth=0.5)\n",
    "plt.xlabel('Survived')\n",
    "plt.ylabel('Count')\n",
    "plt.xticks([0, 1])\n",
    "plt.title('Naive Bayes - Predicted Survival')\n",
    "plt.show()"
   ]
  },
  {
   "cell_type": "code",
   "execution_count": 11,
   "id": "eb5589c7",
   "metadata": {},
   "outputs": [],
   "source": [
    "# Save predicted labels to a file\n",
    "np.savetxt('predicted_labels.txt', y_pred, fmt='%d')\n",
    "\n"
   ]
  }
 ],
 "metadata": {
  "kernelspec": {
   "display_name": "Python 3 (ipykernel)",
   "language": "python",
   "name": "python3"
  },
  "language_info": {
   "codemirror_mode": {
    "name": "ipython",
    "version": 3
   },
   "file_extension": ".py",
   "mimetype": "text/x-python",
   "name": "python",
   "nbconvert_exporter": "python",
   "pygments_lexer": "ipython3",
   "version": "3.9.7"
  }
 },
 "nbformat": 4,
 "nbformat_minor": 5
}
